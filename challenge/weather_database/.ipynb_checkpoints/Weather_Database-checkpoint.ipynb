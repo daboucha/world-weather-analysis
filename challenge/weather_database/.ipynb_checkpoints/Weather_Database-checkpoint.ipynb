{
 "cells": [
  {
   "cell_type": "code",
   "execution_count": null,
   "id": "eba19779",
   "metadata": {},
   "outputs": [],
   "source": [
    "# Import the dependencies\n",
    "import pandas as pd\n",
    "import numpy as np\n",
    "import requests\n",
    "from citipy import citipy\n",
    "from datetime import datetime\n",
    "\n",
    "# Import the weather API key\n",
    "from config import weather_api_key"
   ]
  },
  {
   "cell_type": "code",
   "execution_count": null,
   "id": "278b8b4e",
   "metadata": {},
   "outputs": [],
   "source": [
    "# Create a set of random latitude and longitude combinations\n",
    "lats = np.random.uniform(low=-90, high=90, size=2000)\n",
    "lngs = np.random.uniform(low=-180, high=180, size=2000)\n",
    "lats_lngs = zip(lats, lngs)"
   ]
  },
  {
   "cell_type": "code",
   "execution_count": null,
   "id": "34987c90",
   "metadata": {},
   "outputs": [],
   "source": [
    "# Add the latitudes and longitudes to a list\n",
    "coordinates = list(lats_lngs)"
   ]
  },
  {
   "cell_type": "code",
   "execution_count": null,
   "id": "fe4f666b",
   "metadata": {},
   "outputs": [],
   "source": [
    "# Create a list for holding the cities\n",
    "cities = []\n",
    "\n",
    "# Identify the nearest city for each latitude and longitude combination\n",
    "for cord in coordinates:\n",
    "    city = citipy.nearest_city(cord[0], cord[1]).city_name\n",
    "    \n",
    "    # If the city is unique, then we will add it to the cities list\n",
    "    if city not in cities:\n",
    "        cities.append(city)\n",
    "    \n",
    "# Print the city count to confirm sufficient count\n",
    "len(cities)"
   ]
  },
  {
   "cell_type": "code",
   "execution_count": null,
   "id": "4b045e7a",
   "metadata": {},
   "outputs": [],
   "source": [
    "url = \"http://api.openweathermap.org/data/2.5/weather?units=Imperial&APPID=\" + weather_api_key\n",
    "city = cities[0]\n",
    "city_url = url + \"&q=\" + city.replace(\" \", \"+\")\n",
    "\n",
    "city_weather = requests.get(city_url).json()\n",
    "city_weather"
   ]
  },
  {
   "cell_type": "code",
   "execution_count": null,
   "id": "0946603f",
   "metadata": {},
   "outputs": [],
   "source": [
    "# Starting URL for Weather Map API Call\n",
    "url = \"http://api.openweathermap.org/data/2.5/weather?units=Imperial&APPID=\" + weather_api_key\n",
    "\n",
    "# Create an empty list to hold the weather data\n",
    "city_data = []\n",
    "\n",
    "for city in cities:\n",
    "    # Create endpoint URL with each city\n",
    "    city_url = url + \"&q=\" + city.replace(\" \", \"+\")\n",
    "    \n",
    "    # Run an API request for each of the cities  \n",
    "    try:\n",
    "        # Parse the JSON and retrieve data\n",
    "        city_weather = requests.get(city_url).json()\n",
    "\n",
    "        # Parse out the needed data\n",
    "        lat = city_weather[\"coord\"][\"lat\"]\n",
    "        lon = city_weather[\"coord\"][\"lon\"]\n",
    "        max_temp = city_weather[\"main\"][\"temp_max\"]\n",
    "        humidity = city_weather[\"main\"][\"humidity\"]\n",
    "        cloudiness = city_weather[\"clouds\"][\"all\"]\n",
    "        wind_speed = city_weather[\"wind\"][\"speed\"]\n",
    "        description = city_weather[\"weather\"][0][\"description\"]\n",
    "        country = city_weather[\"sys\"][\"country\"]     \n",
    "\n",
    "        # Append the city information into city_data list\n",
    "        city_data.append({\"City\": city.title(),\n",
    "                          \"Country\": country,\n",
    "                          \"Lat\": lat,\n",
    "                          \"Lng\": lon,\n",
    "                          \"Max Temp\": max_temp,\n",
    "                          \"Humidity\": humidity,\n",
    "                          \"Cloudiness\": cloudiness,\n",
    "                          \"Wind Speed\": wind_speed,\n",
    "                          \"Current Description\": description,\n",
    "                          \"Date\": date})\n",
    "    # If an error is experienced, skip the city\n",
    "    except:\n",
    "        pass"
   ]
  },
  {
   "cell_type": "code",
   "execution_count": null,
   "id": "0da3e9ea",
   "metadata": {},
   "outputs": [],
   "source": [
    "city_data_df = pd.DataFrame(city_data)\n",
    "city_data_df"
   ]
  },
  {
   "cell_type": "code",
   "execution_count": null,
   "id": "e618c631",
   "metadata": {},
   "outputs": [],
   "source": [
    "# Create the output file (CSV)\n",
    "output_data_file = \"WeatherPy_Database.csv\"\n",
    "# Export the City_Data into a CSV\n",
    "city_data_df.to_csv(output_data_file, index=False)"
   ]
  },
  {
   "cell_type": "code",
   "execution_count": null,
   "id": "f141e1fd",
   "metadata": {},
   "outputs": [],
   "source": []
  }
 ],
 "metadata": {
  "kernelspec": {
   "display_name": "Python 3",
   "language": "python",
   "name": "python3"
  },
  "language_info": {
   "codemirror_mode": {
    "name": "ipython",
    "version": 3
   },
   "file_extension": ".py",
   "mimetype": "text/x-python",
   "name": "python",
   "nbconvert_exporter": "python",
   "pygments_lexer": "ipython3",
   "version": "3.9.4"
  }
 },
 "nbformat": 4,
 "nbformat_minor": 5
}
